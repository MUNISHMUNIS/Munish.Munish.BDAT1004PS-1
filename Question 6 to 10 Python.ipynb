{
 "cells": [
  {
   "cell_type": "markdown",
   "id": "7ae639f8",
   "metadata": {},
   "source": [
    "# Question 6"
   ]
  },
  {
   "cell_type": "code",
   "execution_count": 1,
   "id": "88ed66b8",
   "metadata": {},
   "outputs": [],
   "source": [
    "def pig(stri):\n",
    "    vowels = ['a','e','i','o','u']\n",
    "    # Checking the first letter \n",
    "    if stri[0].lower() in vowels:\n",
    "        stri = stri + 'way'\n",
    "    else:\n",
    "        firstChar = stri[0]\n",
    "        stri = stri[1:]\n",
    "        stri = stri + firstChar + 'ay'\n",
    "    #Return the changed word\n",
    "    return stri.lower()"
   ]
  },
  {
   "cell_type": "code",
   "execution_count": 2,
   "id": "a247b661",
   "metadata": {},
   "outputs": [
    {
     "data": {
      "text/plain": [
       "'appyhay'"
      ]
     },
     "execution_count": 2,
     "metadata": {},
     "output_type": "execute_result"
    }
   ],
   "source": [
    "pig('happy')"
   ]
  },
  {
   "cell_type": "code",
   "execution_count": 3,
   "id": "8ec49454",
   "metadata": {},
   "outputs": [
    {
     "data": {
      "text/plain": [
       "'enterway'"
      ]
     },
     "execution_count": 3,
     "metadata": {},
     "output_type": "execute_result"
    }
   ],
   "source": [
    "pig('Enter')"
   ]
  },
  {
   "cell_type": "markdown",
   "id": "2441a0e0",
   "metadata": {},
   "source": [
    "# Question 7"
   ]
  },
  {
   "cell_type": "code",
   "execution_count": 4,
   "id": "0c2930b8",
   "metadata": {},
   "outputs": [
    {
     "name": "stdout",
     "output_type": "stream",
     "text": [
      "There are 15 patients of blood type A\n",
      "There is 1 patients of blood type B\n",
      "There are 13 patients of blood type AB\n",
      "There are 15 patients of blood type O\n",
      "There are no patients of blood type OO\n"
     ]
    }
   ],
   "source": [
    "file1 = open(r'C:\\Users\\KAMALJIT\\Downloads\\bloodtype1.txt', 'r')  \n",
    "for i in file1:\n",
    "    bloodtypes = []\n",
    "    for value in i.split():\n",
    "        \n",
    "        bloodtypes.append(value)\n",
    "        \n",
    "file1.close()   \n",
    "bloodtypeCounts = {'A':bloodtypes.count('A'),'B':bloodtypes.count('B'),'AB':bloodtypes.count('AB'),'O':bloodtypes.count('O'),'OO':bloodtypes.count('OO')}\n",
    "for i,j in bloodtypeCounts.items():\n",
    "    if j==0:\n",
    "        print(\"There are no patients of blood type\",i)\n",
    "    elif j==1:\n",
    "        print(\"There is\",j, \"patients of blood type\",i)\n",
    "    else:\n",
    "        print(\"There are\",j, \"patients of blood type\",i)\n"
   ]
  },
  {
   "cell_type": "markdown",
   "id": "6e442bf0",
   "metadata": {},
   "source": [
    "# Question 8"
   ]
  },
  {
   "cell_type": "code",
   "execution_count": 5,
   "id": "a4245d7d",
   "metadata": {},
   "outputs": [
    {
     "name": "stdout",
     "output_type": "stream",
     "text": [
      "Enter the currency code AUD\n",
      "Enter the amount 3787\n",
      "\n",
      "\n",
      "Enterd Currency: AUD 1.0345157\n",
      "Entered Amount to be converted: 3787\n",
      "3917.7109559\n"
     ]
    }
   ],
   "source": [
    "\n",
    "file1 = open(r'C:\\Users\\KAMALJIT\\Downloads\\currencies.txt', 'r')\n",
    "data1 = file1.read().replace('\\n','\\n')\n",
    "file1.close()\n",
    "cur = input(\"Enter the currency code \")\n",
    "amount = int(input(\"Enter the amount \"))\n",
    "\n",
    "#To Get the exchange values\n",
    "with open(r'C:\\Users\\KAMALJIT\\Downloads\\currencies.txt','r') as data_file:\n",
    "    currencyNames = {};\n",
    "    currency = {};\n",
    "    for line in data_file:\n",
    "        data1 = line.split()\n",
    "        currency[data1[0]] = float(data1[1])\n",
    "        currencyNames[data1[0]] = data1[0] +\" \"+ data1[1]\n",
    "\n",
    "print(\"\\n\")\n",
    "curEntered = currencyNames[cur.upper()]\n",
    "\n",
    "print(\"Enterd Currency: \"+curEntered)\n",
    "print(\"Entered Amount to be converted: \"+ str(amount))\n",
    "cur = cur.upper()\n",
    "\n",
    "#Function for Exchanging currency rates\n",
    "def curconv(cur,amount):\n",
    "    cur = cur.upper()\n",
    "    conv = currency[cur] * amount\n",
    "    print(conv)\n",
    "\n",
    "curconv(cur,amount)\n",
    "\n"
   ]
  },
  {
   "cell_type": "markdown",
   "id": "85153f79",
   "metadata": {},
   "source": [
    "# Question 9"
   ]
  },
  {
   "cell_type": "code",
   "execution_count": 6,
   "id": "151a6906",
   "metadata": {},
   "outputs": [
    {
     "ename": "SyntaxError",
     "evalue": "invalid character '‘' (U+2018) (3007655324.py, line 3)",
     "output_type": "error",
     "traceback": [
      "\u001b[1;36m  Cell \u001b[1;32mIn[6], line 3\u001b[1;36m\u001b[0m\n\u001b[1;33m    6 + ‘a’\u001b[0m\n\u001b[1;37m        ^\u001b[0m\n\u001b[1;31mSyntaxError\u001b[0m\u001b[1;31m:\u001b[0m invalid character '‘' (U+2018)\n"
     ]
    }
   ],
   "source": [
    "# SyntaxError - can't add two different data type\n",
    "\n",
    "6 + ‘a’"
   ]
  },
  {
   "cell_type": "code",
   "execution_count": 7,
   "id": "522c2e21",
   "metadata": {},
   "outputs": [
    {
     "ename": "IndexError",
     "evalue": "list index out of range",
     "output_type": "error",
     "traceback": [
      "\u001b[1;31m---------------------------------------------------------------------------\u001b[0m",
      "\u001b[1;31mIndexError\u001b[0m                                Traceback (most recent call last)",
      "Cell \u001b[1;32mIn[7], line 4\u001b[0m\n\u001b[0;32m      1\u001b[0m \u001b[38;5;66;03m# IndexError - Can't access an element outside the range\u001b[39;00m\n\u001b[0;32m      3\u001b[0m \u001b[38;5;28mlist\u001b[39m\u001b[38;5;241m=\u001b[39m[\u001b[38;5;241m1\u001b[39m,\u001b[38;5;241m2\u001b[39m,\u001b[38;5;241m3\u001b[39m,\u001b[38;5;241m4\u001b[39m,\u001b[38;5;241m5\u001b[39m,\u001b[38;5;241m6\u001b[39m,\u001b[38;5;241m7\u001b[39m,\u001b[38;5;241m8\u001b[39m,\u001b[38;5;241m9\u001b[39m,\u001b[38;5;241m10\u001b[39m]\n\u001b[1;32m----> 4\u001b[0m \u001b[38;5;28mlist\u001b[39m[\u001b[38;5;241m11\u001b[39m]\n",
      "\u001b[1;31mIndexError\u001b[0m: list index out of range"
     ]
    }
   ],
   "source": [
    "# IndexError - Can't access an element outside the range\n",
    "\n",
    "list=[1,2,3,4,5,6,7,8,9,10]\n",
    "list[11]"
   ]
  },
  {
   "cell_type": "code",
   "execution_count": 9,
   "id": "9e3748ec",
   "metadata": {},
   "outputs": [
    {
     "ename": "ValueError",
     "evalue": "math domain error",
     "output_type": "error",
     "traceback": [
      "\u001b[1;31m---------------------------------------------------------------------------\u001b[0m",
      "\u001b[1;31mValueError\u001b[0m                                Traceback (most recent call last)",
      "Cell \u001b[1;32mIn[9], line 4\u001b[0m\n\u001b[0;32m      1\u001b[0m \u001b[38;5;66;03m# ValueError - Input should be compatible with the function\u001b[39;00m\n\u001b[0;32m      3\u001b[0m \u001b[38;5;28;01mimport\u001b[39;00m \u001b[38;5;21;01mmath\u001b[39;00m\n\u001b[1;32m----> 4\u001b[0m math\u001b[38;5;241m.\u001b[39msqrt(\u001b[38;5;241m-\u001b[39m\u001b[38;5;241m1.0\u001b[39m)\n",
      "\u001b[1;31mValueError\u001b[0m: math domain error"
     ]
    }
   ],
   "source": [
    "# ValueError - Input should be compatible with the function\n",
    "\n",
    "import math\n",
    "math.sqrt(-1.0)"
   ]
  },
  {
   "cell_type": "code",
   "execution_count": 10,
   "id": "5ed72526",
   "metadata": {},
   "outputs": [
    {
     "ename": "NameError",
     "evalue": "name 'x' is not defined",
     "output_type": "error",
     "traceback": [
      "\u001b[1;31m---------------------------------------------------------------------------\u001b[0m",
      "\u001b[1;31mNameError\u001b[0m                                 Traceback (most recent call last)",
      "Cell \u001b[1;32mIn[10], line 2\u001b[0m\n\u001b[0;32m      1\u001b[0m \u001b[38;5;66;03m# NameError - Parameter not defined\u001b[39;00m\n\u001b[1;32m----> 2\u001b[0m \u001b[38;5;28mprint\u001b[39m(x)\n",
      "\u001b[1;31mNameError\u001b[0m: name 'x' is not defined"
     ]
    }
   ],
   "source": [
    "# NameError - Parameter not defined\n",
    "print(x)"
   ]
  },
  {
   "cell_type": "code",
   "execution_count": 11,
   "id": "13f42fdf",
   "metadata": {},
   "outputs": [
    {
     "ename": "FileNotFoundError",
     "evalue": "[Errno 2] No such file or directory: 'hi.txt'",
     "output_type": "error",
     "traceback": [
      "\u001b[1;31m---------------------------------------------------------------------------\u001b[0m",
      "\u001b[1;31mFileNotFoundError\u001b[0m                         Traceback (most recent call last)",
      "Cell \u001b[1;32mIn[11], line 3\u001b[0m\n\u001b[0;32m      1\u001b[0m \u001b[38;5;66;03m# FileNotFoundError - File location should be proper and file name should be the same\u001b[39;00m\n\u001b[1;32m----> 3\u001b[0m f \u001b[38;5;241m=\u001b[39m \u001b[38;5;28mopen\u001b[39m(\u001b[38;5;124m\"\u001b[39m\u001b[38;5;124mhi.txt\u001b[39m\u001b[38;5;124m\"\u001b[39m, \u001b[38;5;124m\"\u001b[39m\u001b[38;5;124mr\u001b[39m\u001b[38;5;124m\"\u001b[39m)\n\u001b[0;32m      4\u001b[0m \u001b[38;5;28mprint\u001b[39m(f\u001b[38;5;241m.\u001b[39mread())\n",
      "File \u001b[1;32mC:\\ProgramData\\anaconda3\\Lib\\site-packages\\IPython\\core\\interactiveshell.py:286\u001b[0m, in \u001b[0;36m_modified_open\u001b[1;34m(file, *args, **kwargs)\u001b[0m\n\u001b[0;32m    279\u001b[0m \u001b[38;5;28;01mif\u001b[39;00m file \u001b[38;5;129;01min\u001b[39;00m {\u001b[38;5;241m0\u001b[39m, \u001b[38;5;241m1\u001b[39m, \u001b[38;5;241m2\u001b[39m}:\n\u001b[0;32m    280\u001b[0m     \u001b[38;5;28;01mraise\u001b[39;00m \u001b[38;5;167;01mValueError\u001b[39;00m(\n\u001b[0;32m    281\u001b[0m         \u001b[38;5;124mf\u001b[39m\u001b[38;5;124m\"\u001b[39m\u001b[38;5;124mIPython won\u001b[39m\u001b[38;5;124m'\u001b[39m\u001b[38;5;124mt let you open fd=\u001b[39m\u001b[38;5;132;01m{\u001b[39;00mfile\u001b[38;5;132;01m}\u001b[39;00m\u001b[38;5;124m by default \u001b[39m\u001b[38;5;124m\"\u001b[39m\n\u001b[0;32m    282\u001b[0m         \u001b[38;5;124m\"\u001b[39m\u001b[38;5;124mas it is likely to crash IPython. If you know what you are doing, \u001b[39m\u001b[38;5;124m\"\u001b[39m\n\u001b[0;32m    283\u001b[0m         \u001b[38;5;124m\"\u001b[39m\u001b[38;5;124myou can use builtins\u001b[39m\u001b[38;5;124m'\u001b[39m\u001b[38;5;124m open.\u001b[39m\u001b[38;5;124m\"\u001b[39m\n\u001b[0;32m    284\u001b[0m     )\n\u001b[1;32m--> 286\u001b[0m \u001b[38;5;28;01mreturn\u001b[39;00m io_open(file, \u001b[38;5;241m*\u001b[39margs, \u001b[38;5;241m*\u001b[39m\u001b[38;5;241m*\u001b[39mkwargs)\n",
      "\u001b[1;31mFileNotFoundError\u001b[0m: [Errno 2] No such file or directory: 'hi.txt'"
     ]
    }
   ],
   "source": [
    "# FileNotFoundError - File location should be proper and file name should be the same\n",
    "\n",
    "f = open(\"hi.txt\", \"r\")\n",
    "print(f.read())"
   ]
  },
  {
   "cell_type": "markdown",
   "id": "e04aed16",
   "metadata": {},
   "source": [
    "# Question 10"
   ]
  },
  {
   "cell_type": "code",
   "execution_count": 12,
   "id": "44132f84",
   "metadata": {},
   "outputs": [
    {
     "data": {
      "text/plain": [
       "[1, 1, 1, 3, 5, 1, 1, 2, 1, 0, 1, 0, 1, 2, 4, 0, 1, 2, 0, 2, 1, 0, 1, 1, 0, 0]"
      ]
     },
     "execution_count": 12,
     "metadata": {},
     "output_type": "execute_result"
    }
   ],
   "source": [
    "Letters=\"abcdefghijklmnopqrstuvwxyz\"\n",
    "\n",
    "#function to calculate letter frequencies\n",
    "def frequencies(string):\n",
    "    Occ=[]\n",
    "    for i in Letters : #Count the occurrences\n",
    "        Occ.append(string.count(i))\n",
    "    return Occ\n",
    "\n",
    "oc=frequencies('The quick red fox got bored and went home.') \n",
    "oc"
   ]
  },
  {
   "cell_type": "code",
   "execution_count": 13,
   "id": "8dd9de15",
   "metadata": {},
   "outputs": [
    {
     "data": {
      "text/plain": [
       "[1, 0, 0, 0, 1, 0, 0, 0, 0, 0, 0, 1, 0, 0, 0, 2, 0, 0, 0, 0, 0, 0, 0, 0, 0, 0]"
      ]
     },
     "execution_count": 13,
     "metadata": {},
     "output_type": "execute_result"
    }
   ],
   "source": [
    "oc=frequencies('apple')\n",
    "oc  "
   ]
  },
  {
   "cell_type": "code",
   "execution_count": null,
   "id": "eb56abb9",
   "metadata": {},
   "outputs": [],
   "source": []
  }
 ],
 "metadata": {
  "kernelspec": {
   "display_name": "Python 3 (ipykernel)",
   "language": "python",
   "name": "python3"
  },
  "language_info": {
   "codemirror_mode": {
    "name": "ipython",
    "version": 3
   },
   "file_extension": ".py",
   "mimetype": "text/x-python",
   "name": "python",
   "nbconvert_exporter": "python",
   "pygments_lexer": "ipython3",
   "version": "3.11.5"
  }
 },
 "nbformat": 4,
 "nbformat_minor": 5
}
